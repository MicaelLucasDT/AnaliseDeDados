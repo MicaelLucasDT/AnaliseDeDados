{
  "nbformat": 4,
  "nbformat_minor": 0,
  "metadata": {
    "colab": {
      "provenance": [],
      "authorship_tag": "ABX9TyMt4YijoTeuxotC/c2nDwip",
      "include_colab_link": true
    },
    "kernelspec": {
      "name": "python3",
      "display_name": "Python 3"
    },
    "language_info": {
      "name": "python"
    }
  },
  "cells": [
    {
      "cell_type": "markdown",
      "metadata": {
        "id": "view-in-github",
        "colab_type": "text"
      },
      "source": [
        "<a href=\"https://colab.research.google.com/github/MicaelLucasDT/AnaliseDeDados/blob/main/Express%C3%B5es_Regulares.ipynb\" target=\"_parent\"><img src=\"https://colab.research.google.com/assets/colab-badge.svg\" alt=\"Open In Colab\"/></a>"
      ]
    },
    {
      "cell_type": "code",
      "execution_count": 2,
      "metadata": {
        "id": "XLu9ygG5N9Db"
      },
      "outputs": [],
      "source": [
        "import re"
      ]
    },
    {
      "cell_type": "code",
      "source": [
        "#Questão 1 --> Escreva uma expressão regular que reconheça identificadores válidos em uma linguagem fictícia, considerando as seguintes regras:\n",
        "#Um identificador deve começar com uma letra (maiúscula ou minúscula).\n",
        "#Pode conter letras, dígitos ou sublinhado (_).\n",
        "#Deve ter no mínimo 2 caracteres e no máximo 15 caracteres.\n",
        "#Explique o que cada parte da expressão regular faz.\n",
        "\n",
        "\n",
        "# Expressão regular para identificadores válidos\n",
        "pattern = r\"^[a-zA-Z][a-zA-Z0-9_]{1,14}$\"\n",
        "\n",
        "# Lista de identificadores para testar\n",
        "identificadores = [\"variavel1\", \"_invalido\", \"a123\",\n",
        "                   \"muitoLongoIdentificadorQueNaoDeveSerValido\", \"x\", \"outro_valido\"]\n",
        "\n",
        "# Iterando sobre os identificadores e verificando se são válidos\n",
        "for identificador in identificadores:\n",
        "    if re.match(pattern, identificador):\n",
        "        print(f'\"{identificador}\" é válido.')\n",
        "    else:\n",
        "        print(f'\"{identificador}\" é inválido.')\n"
      ],
      "metadata": {
        "colab": {
          "base_uri": "https://localhost:8080/"
        },
        "id": "FiVeMsVrR-Pq",
        "outputId": "f59be172-abac-4897-b14c-5a14ae0a5c57"
      },
      "execution_count": 3,
      "outputs": [
        {
          "output_type": "stream",
          "name": "stdout",
          "text": [
            "\"variavel1\" é válido.\n",
            "\"_invalido\" é inválido.\n",
            "\"a123\" é válido.\n",
            "\"muitoLongoIdentificadorQueNaoDeveSerValido\" é inválido.\n",
            "\"x\" é inválido.\n",
            "\"outro_valido\" é válido.\n"
          ]
        }
      ]
    },
    {
      "cell_type": "code",
      "source": [
        "#Questão 2 --> Crie expressões regulares para identificar: a) Números inteiros (positivos ou negativos). b) Números reais (com e sem parte fracionária).\n",
        "\n",
        "# Expressões regulares para números inteiros e reais ajustados\n",
        "pattern_inteiros = r\"^-?\\d+$\"\n",
        "pattern_reais = r\"^-?\\d+(\\.\\d+)?$\"\n",
        "\n",
        "# Lista de números para testar\n",
        "numeros = [\"123\", \"-45\", \"3.14\", \"0.5\", \"-.9\", \"-10.0\", \"abc\", \"12.\"]\n",
        "\n",
        "# Iterando sobre os números e verificando se são inteiros ou reais\n",
        "for numero in numeros:\n",
        "    if re.match(pattern_inteiros, numero):\n",
        "        print(f'\"{numero}\" é um número inteiro válido.')\n",
        "    elif re.match(pattern_reais, numero):\n",
        "        print(f'\"{numero}\" é um número real válido.')\n",
        "    else:\n",
        "        print(f'\"{numero}\" é inválido.')\n"
      ],
      "metadata": {
        "colab": {
          "base_uri": "https://localhost:8080/"
        },
        "id": "HjwlqkttTAqT",
        "outputId": "85f4f563-7382-4c8b-fdb8-f702f9d3c9cf"
      },
      "execution_count": 4,
      "outputs": [
        {
          "output_type": "stream",
          "name": "stdout",
          "text": [
            "\"123\" é um número inteiro válido.\n",
            "\"-45\" é um número inteiro válido.\n",
            "\"3.14\" é um número real válido.\n",
            "\"0.5\" é um número real válido.\n",
            "\"-.9\" é inválido.\n",
            "\"-10.0\" é um número real válido.\n",
            "\"abc\" é inválido.\n",
            "\"12.\" é inválido.\n"
          ]
        }
      ]
    },
    {
      "cell_type": "code",
      "source": [
        "#Questão 3 --> Crie uma expressão regular que reconheça strings literais em uma linguagem fictícia. Considere que as strings devem:\n",
        "#Estar entre aspas duplas (\" \").\n",
        "#Podem conter qualquer caractere, exceto uma quebra de linha (\\n).\n",
        "#Devem permitir o uso da barra invertida (\\) para escapar aspas.\n",
        "\n",
        "# Expressão regular para strings literais válidas\n",
        "pattern_strings = r'^\"([^\"\\\\\\n]|\\\\.)*\"$'\n",
        "\n",
        "# Lista de strings para testar\n",
        "strings = ['\"Hello, World!\"', '\"Linha\\ninvalida\"', '\"Escaped \\\\\"Quote\\\\\"\"', '\"Unterminated string', '\"\"']\n",
        "\n",
        "# Iterando sobre as strings e verificando se são válidas\n",
        "for string in strings:\n",
        "    if re.match(pattern_strings, string):\n",
        "        print(f'{string} é uma string válida.')\n",
        "    else:\n",
        "        print(f'{string} é inválida.')\n"
      ],
      "metadata": {
        "colab": {
          "base_uri": "https://localhost:8080/"
        },
        "id": "Givnb-FwUeg2",
        "outputId": "d19c21fe-df42-4338-b54c-69724c2655fe"
      },
      "execution_count": 5,
      "outputs": [
        {
          "output_type": "stream",
          "name": "stdout",
          "text": [
            "\"Hello, World!\" é uma string válida.\n",
            "\"Linha\n",
            "invalida\" é inválida.\n",
            "\"Escaped \\\"Quote\\\"\" é uma string válida.\n",
            "\"Unterminated string é inválida.\n",
            "\"\" é uma string válida.\n"
          ]
        }
      ]
    },
    {
      "cell_type": "code",
      "source": [
        "#Questão 4 --> Considere o seguinte trecho de código de uma linguagem fictícia:\n",
        "\n",
        "#int valor = 10;\n",
        "#se (valor > 5) {\n",
        "  #escreva(\"Valor maior que 5\");\n",
        "#}\n",
        "\n",
        "#Divida o trecho de código acima em tokens e categorize-os de acordo com as seguintes categorias:\n",
        "#palavra-chave, identificador, operador, símbolo, constante numérica, string literal.\n",
        "\n",
        "# Resposta: int -> Palavra chave\n",
        "# valor -> Identificador\n",
        "# = -> Operador\n",
        "# 10 -> Contante numérica\n",
        "# ; -> Símbolo'\n",
        "# se -> Palavra chave\n",
        "# ( -> Símbolo\n",
        "# > -> Operador\n",
        "# 5 -> Constante numérica\n",
        "# ) -> Símbolo\n",
        "# { -> Símbolo\n",
        "# escreva -> Palavra chave\n",
        "# \"Valor maior que 5\" -> String Literal\n",
        "# } -> Símbolo"
      ],
      "metadata": {
        "id": "Y1U8fuN0VJIT"
      },
      "execution_count": null,
      "outputs": []
    },
    {
      "cell_type": "code",
      "source": [
        "#Questão 5 --> Geração de Tokens via Expressão Regular:\n",
        "#Para cada uma das seguintes categorias de tokens, escreva uma expressão regular capaz de reconhecê-las em uma linguagem fictícia:\n",
        "#a) Palavra-chave (exemplo: int, se, escreva).\n",
        "#b) Operador de Atribuição (exemplo: =).\n",
        "#c) Operadores Relacionais (exemplo: >, <, ==).\n",
        "#d) Constante Numérica Inteira.\n",
        "#e) String Literal.\n",
        "\n",
        "# Expressões regulares para o analisador léxico\n",
        "palavra_chave = r\"\\b(int|se|escreva)\\b\"\n",
        "operador_atribuicao = r\"=\"\n",
        "operador_relacional = r\"(>|<|==|!=|>=|<=)\"\n",
        "cont_numerica = r\"\\b-?\\d+\\b\"\n",
        "string_literal = r'^\"([^\"\\\\\\n]|\\\\.)*\"$'\n",
        "\n",
        "# Lista de caracteres para testar\n",
        "pala_chave = [\"int\", \"se\", \"escreva\"]\n",
        "op_atribuicao = [\"=\"]\n",
        "op_relacional = [\">\", \"<\", \"==\"]\n",
        "cont_num = [\"123\", \"-45\", \"-10\", \"10\", \"5\"]\n",
        "string_lit = ['\"Valor maior que 5\"']\n",
        "\n",
        "# Função para verificar tokens\n",
        "def verificar_tokens(lista, padrao):\n",
        "    for item in lista:\n",
        "        if re.match(padrao, item):\n",
        "            print(f\"{item}: Válido\")\n",
        "        else:\n",
        "            print(f\"{item}: Inválido\")\n",
        "\n",
        "# Testando palavras-chave\n",
        "print(\"Palavras-chave:\")\n",
        "verificar_tokens(pala_chave, palavra_chave)\n",
        "print()\n",
        "\n",
        "# Testando operadores de atribuição\n",
        "print(\"Operadores de Atribuição:\")\n",
        "verificar_tokens(op_atribuicao, operador_atribuicao)\n",
        "print()\n",
        "\n",
        "# Testando operadores relacionais\n",
        "print(\"Operadores Relacionais:\")\n",
        "verificar_tokens(op_relacional, operador_relacional)\n",
        "print()\n",
        "\n",
        "# Testando constantes numéricas\n",
        "print(\"Constantes Numéricas:\")\n",
        "verificar_tokens(cont_num, cont_numerica)\n",
        "print()\n",
        "\n",
        "# Testando strings literais\n",
        "print(\"Strings Literais:\")\n",
        "verificar_tokens(string_lit, string_literal)\n",
        "\n",
        "\n"
      ],
      "metadata": {
        "colab": {
          "base_uri": "https://localhost:8080/"
        },
        "id": "YPPVz6oWaaB7",
        "outputId": "93ef9e7b-dadc-450e-bd8b-6b27f8856ab4"
      },
      "execution_count": 6,
      "outputs": [
        {
          "output_type": "stream",
          "name": "stdout",
          "text": [
            "Palavras-chave:\n",
            "int: Válido\n",
            "se: Válido\n",
            "escreva: Válido\n",
            "\n",
            "Operadores de Atribuição:\n",
            "=: Válido\n",
            "\n",
            "Operadores Relacionais:\n",
            ">: Válido\n",
            "<: Válido\n",
            "==: Válido\n",
            "\n",
            "Constantes Numéricas:\n",
            "123: Válido\n",
            "-45: Inválido\n",
            "-10: Inválido\n",
            "10: Válido\n",
            "5: Válido\n",
            "\n",
            "Strings Literais:\n",
            "\"Valor maior que 5\": Válido\n"
          ]
        }
      ]
    }
  ]
}